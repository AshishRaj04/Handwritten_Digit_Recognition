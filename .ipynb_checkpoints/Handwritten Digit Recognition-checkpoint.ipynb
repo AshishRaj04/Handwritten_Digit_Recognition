{
 "cells": [
  {
   "cell_type": "markdown",
   "id": "ebc58055-5e87-4396-9e9c-35629166cf34",
   "metadata": {},
   "source": [
    "# Problem Statement\n",
    "## You will use a neural network to recognize two handwritten digits, zero and one .\n",
    "### This is a binary classification task. Automated handwritten digit recognition is widely used today - from recognizing zip codes (postal codes) on mail envelopes to recognizing amounts written on bank checks."
   ]
  },
  {
   "cell_type": "code",
   "execution_count": null,
   "id": "823022f1-d11f-4cfe-bdb2-f76775400cdf",
   "metadata": {},
   "outputs": [],
   "source": []
  }
 ],
 "metadata": {
  "kernelspec": {
   "display_name": "Python 3",
   "language": "python",
   "name": "python3"
  },
  "language_info": {
   "codemirror_mode": {
    "name": "ipython",
    "version": 3
   },
   "file_extension": ".py",
   "mimetype": "text/x-python",
   "name": "python",
   "nbconvert_exporter": "python",
   "pygments_lexer": "ipython3",
   "version": "3.12.1"
  }
 },
 "nbformat": 4,
 "nbformat_minor": 5
}
